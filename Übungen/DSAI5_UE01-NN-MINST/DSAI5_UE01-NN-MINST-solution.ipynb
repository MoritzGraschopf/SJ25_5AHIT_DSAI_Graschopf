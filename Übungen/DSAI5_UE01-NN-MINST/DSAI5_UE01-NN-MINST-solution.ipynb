{
 "cells": [
  {
   "cell_type": "code",
   "id": "d3654da6",
   "metadata": {
    "ExecuteTime": {
     "end_time": "2025-09-29T09:07:35.288710Z",
     "start_time": "2025-09-29T09:07:35.286524Z"
    }
   },
   "source": [
    "import numpy as np\n",
    "import pandas as pd\n",
    "import matplotlib.pyplot as plt\n",
    "\n",
    "import tensorflow as tf\n",
    "from tensorflow.keras.models import Sequential, load_model\n",
    "from tensorflow.keras.layers import Dense\n",
    "from tensorflow.keras.utils import to_categorical\n"
   ],
   "outputs": [],
   "execution_count": 49
  },
  {
   "cell_type": "markdown",
   "id": "a2c89bb3",
   "metadata": {},
   "source": [
    "## 1. Daten laden & Überblick (MINST‑1 / Intro)\n",
    "\n",
    "- Laden des **MNIST** Datasets aus Keras\n",
    "- Überblick über **Shapes** und Wertebereich\n"
   ]
  },
  {
   "cell_type": "code",
   "id": "6a431089",
   "metadata": {
    "ExecuteTime": {
     "end_time": "2025-09-29T09:07:35.363491Z",
     "start_time": "2025-09-29T09:07:35.296290Z"
    }
   },
   "source": [
    "# 1.1 Laden\n",
    "(x_train, y_train), (x_test, y_test) = tf.keras.datasets.mnist.load_data()\n",
    "\n",
    "print(\"x_train shape:\", x_train.shape)  # (60000, 28, 28)\n",
    "print(\"y_train shape:\", y_train.shape)  # (60000,)\n",
    "print(\"x_test shape:\", x_test.shape)    # (10000, 28, 28)\n",
    "print(\"y_test shape:\", y_test.shape)    # (10000,)\n",
    "\n",
    "print(\"Pixelwert-Min/Max Train:\", x_train.min(), x_train.max())\n"
   ],
   "outputs": [
    {
     "name": "stdout",
     "output_type": "stream",
     "text": [
      "x_train shape: (60000, 28, 28)\n",
      "y_train shape: (60000,)\n",
      "x_test shape: (10000, 28, 28)\n",
      "y_test shape: (10000,)\n",
      "Pixelwert-Min/Max Train: 0 255\n"
     ]
    }
   ],
   "execution_count": 50
  },
  {
   "cell_type": "markdown",
   "id": "3fbd8053",
   "metadata": {},
   "source": [
    "## 1.2 DataFrame aus den Trainingsbildern\n",
    "\n",
    "Jede **Zeile** entspricht **einem Bild** (28×28 → **784** Spalten).\n",
    "Dieser Schritt dient dem Verständnis für `pd.DataFrame`.\n"
   ]
  },
  {
   "cell_type": "code",
   "id": "30232685",
   "metadata": {
    "ExecuteTime": {
     "end_time": "2025-09-29T09:07:35.375086Z",
     "start_time": "2025-09-29T09:07:35.370659Z"
    }
   },
   "source": [
    "# In (n, 784) bringen – jedes Bild wird \"geflattet\"\n",
    "n_train = x_train.shape[0]\n",
    "x_train_flat = x_train.reshape(n_train, -1)  # (60000, 784)\n",
    "\n",
    "df_train = pd.DataFrame(x_train_flat)\n",
    "df_train.head()\n"
   ],
   "outputs": [
    {
     "data": {
      "text/plain": [
       "   0    1    2    3    4    5    6    7    8    9    ...  774  775  776  777  \\\n",
       "0    0    0    0    0    0    0    0    0    0    0  ...    0    0    0    0   \n",
       "1    0    0    0    0    0    0    0    0    0    0  ...    0    0    0    0   \n",
       "2    0    0    0    0    0    0    0    0    0    0  ...    0    0    0    0   \n",
       "3    0    0    0    0    0    0    0    0    0    0  ...    0    0    0    0   \n",
       "4    0    0    0    0    0    0    0    0    0    0  ...    0    0    0    0   \n",
       "\n",
       "   778  779  780  781  782  783  \n",
       "0    0    0    0    0    0    0  \n",
       "1    0    0    0    0    0    0  \n",
       "2    0    0    0    0    0    0  \n",
       "3    0    0    0    0    0    0  \n",
       "4    0    0    0    0    0    0  \n",
       "\n",
       "[5 rows x 784 columns]"
      ],
      "text/html": [
       "<div>\n",
       "<style scoped>\n",
       "    .dataframe tbody tr th:only-of-type {\n",
       "        vertical-align: middle;\n",
       "    }\n",
       "\n",
       "    .dataframe tbody tr th {\n",
       "        vertical-align: top;\n",
       "    }\n",
       "\n",
       "    .dataframe thead th {\n",
       "        text-align: right;\n",
       "    }\n",
       "</style>\n",
       "<table border=\"1\" class=\"dataframe\">\n",
       "  <thead>\n",
       "    <tr style=\"text-align: right;\">\n",
       "      <th></th>\n",
       "      <th>0</th>\n",
       "      <th>1</th>\n",
       "      <th>2</th>\n",
       "      <th>3</th>\n",
       "      <th>4</th>\n",
       "      <th>5</th>\n",
       "      <th>6</th>\n",
       "      <th>7</th>\n",
       "      <th>8</th>\n",
       "      <th>9</th>\n",
       "      <th>...</th>\n",
       "      <th>774</th>\n",
       "      <th>775</th>\n",
       "      <th>776</th>\n",
       "      <th>777</th>\n",
       "      <th>778</th>\n",
       "      <th>779</th>\n",
       "      <th>780</th>\n",
       "      <th>781</th>\n",
       "      <th>782</th>\n",
       "      <th>783</th>\n",
       "    </tr>\n",
       "  </thead>\n",
       "  <tbody>\n",
       "    <tr>\n",
       "      <th>0</th>\n",
       "      <td>0</td>\n",
       "      <td>0</td>\n",
       "      <td>0</td>\n",
       "      <td>0</td>\n",
       "      <td>0</td>\n",
       "      <td>0</td>\n",
       "      <td>0</td>\n",
       "      <td>0</td>\n",
       "      <td>0</td>\n",
       "      <td>0</td>\n",
       "      <td>...</td>\n",
       "      <td>0</td>\n",
       "      <td>0</td>\n",
       "      <td>0</td>\n",
       "      <td>0</td>\n",
       "      <td>0</td>\n",
       "      <td>0</td>\n",
       "      <td>0</td>\n",
       "      <td>0</td>\n",
       "      <td>0</td>\n",
       "      <td>0</td>\n",
       "    </tr>\n",
       "    <tr>\n",
       "      <th>1</th>\n",
       "      <td>0</td>\n",
       "      <td>0</td>\n",
       "      <td>0</td>\n",
       "      <td>0</td>\n",
       "      <td>0</td>\n",
       "      <td>0</td>\n",
       "      <td>0</td>\n",
       "      <td>0</td>\n",
       "      <td>0</td>\n",
       "      <td>0</td>\n",
       "      <td>...</td>\n",
       "      <td>0</td>\n",
       "      <td>0</td>\n",
       "      <td>0</td>\n",
       "      <td>0</td>\n",
       "      <td>0</td>\n",
       "      <td>0</td>\n",
       "      <td>0</td>\n",
       "      <td>0</td>\n",
       "      <td>0</td>\n",
       "      <td>0</td>\n",
       "    </tr>\n",
       "    <tr>\n",
       "      <th>2</th>\n",
       "      <td>0</td>\n",
       "      <td>0</td>\n",
       "      <td>0</td>\n",
       "      <td>0</td>\n",
       "      <td>0</td>\n",
       "      <td>0</td>\n",
       "      <td>0</td>\n",
       "      <td>0</td>\n",
       "      <td>0</td>\n",
       "      <td>0</td>\n",
       "      <td>...</td>\n",
       "      <td>0</td>\n",
       "      <td>0</td>\n",
       "      <td>0</td>\n",
       "      <td>0</td>\n",
       "      <td>0</td>\n",
       "      <td>0</td>\n",
       "      <td>0</td>\n",
       "      <td>0</td>\n",
       "      <td>0</td>\n",
       "      <td>0</td>\n",
       "    </tr>\n",
       "    <tr>\n",
       "      <th>3</th>\n",
       "      <td>0</td>\n",
       "      <td>0</td>\n",
       "      <td>0</td>\n",
       "      <td>0</td>\n",
       "      <td>0</td>\n",
       "      <td>0</td>\n",
       "      <td>0</td>\n",
       "      <td>0</td>\n",
       "      <td>0</td>\n",
       "      <td>0</td>\n",
       "      <td>...</td>\n",
       "      <td>0</td>\n",
       "      <td>0</td>\n",
       "      <td>0</td>\n",
       "      <td>0</td>\n",
       "      <td>0</td>\n",
       "      <td>0</td>\n",
       "      <td>0</td>\n",
       "      <td>0</td>\n",
       "      <td>0</td>\n",
       "      <td>0</td>\n",
       "    </tr>\n",
       "    <tr>\n",
       "      <th>4</th>\n",
       "      <td>0</td>\n",
       "      <td>0</td>\n",
       "      <td>0</td>\n",
       "      <td>0</td>\n",
       "      <td>0</td>\n",
       "      <td>0</td>\n",
       "      <td>0</td>\n",
       "      <td>0</td>\n",
       "      <td>0</td>\n",
       "      <td>0</td>\n",
       "      <td>...</td>\n",
       "      <td>0</td>\n",
       "      <td>0</td>\n",
       "      <td>0</td>\n",
       "      <td>0</td>\n",
       "      <td>0</td>\n",
       "      <td>0</td>\n",
       "      <td>0</td>\n",
       "      <td>0</td>\n",
       "      <td>0</td>\n",
       "      <td>0</td>\n",
       "    </tr>\n",
       "  </tbody>\n",
       "</table>\n",
       "<p>5 rows × 784 columns</p>\n",
       "</div>"
      ]
     },
     "execution_count": 51,
     "metadata": {},
     "output_type": "execute_result"
    }
   ],
   "execution_count": 51
  },
  {
   "cell_type": "markdown",
   "id": "ce85ed0d",
   "metadata": {},
   "source": [
    "## 1.3 Beispielbild anzeigen\n",
    "\n",
    "Wir zeigen die Ziffer an **Position 0** in `x_train`.\n"
   ]
  },
  {
   "cell_type": "code",
   "id": "c33c6422",
   "metadata": {
    "ExecuteTime": {
     "end_time": "2025-09-29T09:07:35.433879Z",
     "start_time": "2025-09-29T09:07:35.415614Z"
    }
   },
   "source": [
    "plt.imshow(x_train[0], cmap=\"gray_r\")\n",
    "plt.title(f\"Label (y_train[0]) = {y_train[0]}\")\n",
    "plt.axis(\"off\")\n",
    "plt.show()\n"
   ],
   "outputs": [
    {
     "data": {
      "text/plain": [
       "<Figure size 640x480 with 1 Axes>"
      ],
      "image/png": "[encoded data removed]"
     },
     "metadata": {},
     "output_type": "display_data",
     "jetTransient": {
      "display_id": null
     }
    }
   ],
   "execution_count": 52
  },
  {
   "cell_type": "markdown",
   "id": "f40be2f3",
   "metadata": {},
   "source": [
    "## Vorbereitung für das Modell\n",
    "\n",
    "- Bilder von (28, 28) → **(784,)** flatten\n",
    "- Pixelwerte von **0–255** → **0–1** normalisieren\n",
    "- Labels **One‑Hot** kodieren\n"
   ]
  },
  {
   "cell_type": "code",
   "id": "6633407e",
   "metadata": {
    "ExecuteTime": {
     "end_time": "2025-09-29T09:07:35.537115Z",
     "start_time": "2025-09-29T09:07:35.490348Z"
    }
   },
   "source": [
    "# Bilder normalisieren & flatten\n",
    "x_train_norm = (x_train.astype(\"float32\") / 255.0).reshape(-1, 28*28)\n",
    "x_test_norm  = (x_test.astype(\"float32\")  / 255.0).reshape(-1, 28*28)\n",
    "\n",
    "# One-Hot Kodierung der Labels\n",
    "num_classes = 10\n",
    "y_train_cat = to_categorical(y_train, num_classes)\n",
    "y_test_cat  = to_categorical(y_test,  num_classes)\n",
    "\n",
    "x_train_norm.shape, y_train_cat.shape, x_test_norm.shape, y_test_cat.shape\n"
   ],
   "outputs": [
    {
     "data": {
      "text/plain": [
       "((60000, 784), (60000, 10), (10000, 784), (10000, 10))"
      ]
     },
     "execution_count": 53,
     "metadata": {},
     "output_type": "execute_result"
    }
   ],
   "execution_count": 53
  },
  {
   "cell_type": "markdown",
   "id": "cf19e0f7",
   "metadata": {},
   "source": [
    "## 1.4 Warum **10** Knoten im Output‑Layer?\n",
    "\n",
    "Wir klassifizieren handgeschriebene **Ziffern 0–9** → **10** mögliche Klassen.\n",
    "Der Output‑Layer gibt mit **Softmax** für jede Klasse eine **Wahrscheinlichkeit** zurück, die sich zu **1** summieren.\n"
   ]
  },
  {
   "cell_type": "markdown",
   "id": "4b9299ef",
   "metadata": {},
   "source": [
    "## 1.5 Modell implementieren & kompilieren\n",
    "\n",
    "Architektur (gemäß Angabe):\n",
    "\n",
    "```python\n",
    "model = Sequential()\n",
    "model.add(Dense(64, activation=\"relu\", input_shape=(784,)))\n",
    "model.add(Dense(10, activation=\"softmax\"))\n",
    "model.compile(optimizer=\"rmsprop\",\n",
    "              loss=\"categorical_crossentropy\",\n",
    "              metrics=[\"accuracy\"])\n",
    "```\n"
   ]
  },
  {
   "cell_type": "code",
   "id": "dbf56421",
   "metadata": {
    "ExecuteTime": {
     "end_time": "2025-09-29T09:07:35.821336Z",
     "start_time": "2025-09-29T09:07:35.804885Z"
    }
   },
   "source": [
    "model = Sequential()\n",
    "model.add(Dense(64, activation=\"relu\", input_shape=(784,)))\n",
    "model.add(Dense(10, activation=\"softmax\"))\n",
    "\n",
    "model.compile(optimizer=\"rmsprop\",\n",
    "              loss=\"categorical_crossentropy\",\n",
    "              metrics=[\"accuracy\"])\n",
    "\n",
    "model.summary()\n"
   ],
   "outputs": [
    {
     "name": "stderr",
     "output_type": "stream",
     "text": [
      "/Library/Frameworks/Python.framework/Versions/3.13/lib/python3.13/site-packages/keras/src/layers/core/dense.py:92: UserWarning: Do not pass an `input_shape`/`input_dim` argument to a layer. When using Sequential models, prefer using an `Input(shape)` object as the first layer in the model instead.\n",
      "  super().__init__(activity_regularizer=activity_regularizer, **kwargs)\n"
     ]
    },
    {
     "data": {
      "text/plain": [
       "\u001B[1mModel: \"sequential_5\"\u001B[0m\n"
      ],
      "text/html": [
       "<pre style=\"white-space:pre;overflow-x:auto;line-height:normal;font-family:Menlo,'DejaVu Sans Mono',consolas,'Courier New',monospace\"><span style=\"font-weight: bold\">Model: \"sequential_5\"</span>\n",
       "</pre>\n"
      ]
     },
     "metadata": {},
     "output_type": "display_data",
     "jetTransient": {
      "display_id": null
     }
    },
    {
     "data": {
      "text/plain": [
       "┏━━━━━━━━━━━━━━━━━━━━━━━━━━━━━━━━━┳━━━━━━━━━━━━━━━━━━━━━━━━┳━━━━━━━━━━━━━━━┓\n",
       "┃\u001B[1m \u001B[0m\u001B[1mLayer (type)                   \u001B[0m\u001B[1m \u001B[0m┃\u001B[1m \u001B[0m\u001B[1mOutput Shape          \u001B[0m\u001B[1m \u001B[0m┃\u001B[1m \u001B[0m\u001B[1m      Param #\u001B[0m\u001B[1m \u001B[0m┃\n",
       "┡━━━━━━━━━━━━━━━━━━━━━━━━━━━━━━━━━╇━━━━━━━━━━━━━━━━━━━━━━━━╇━━━━━━━━━━━━━━━┩\n",
       "│ dense_10 (\u001B[38;5;33mDense\u001B[0m)                │ (\u001B[38;5;45mNone\u001B[0m, \u001B[38;5;34m64\u001B[0m)             │        \u001B[38;5;34m50,240\u001B[0m │\n",
       "├─────────────────────────────────┼────────────────────────┼───────────────┤\n",
       "│ dense_11 (\u001B[38;5;33mDense\u001B[0m)                │ (\u001B[38;5;45mNone\u001B[0m, \u001B[38;5;34m10\u001B[0m)             │           \u001B[38;5;34m650\u001B[0m │\n",
       "└─────────────────────────────────┴────────────────────────┴───────────────┘\n"
      ],
      "text/html": [
       "<pre style=\"white-space:pre;overflow-x:auto;line-height:normal;font-family:Menlo,'DejaVu Sans Mono',consolas,'Courier New',monospace\">┏━━━━━━━━━━━━━━━━━━━━━━━━━━━━━━━━━┳━━━━━━━━━━━━━━━━━━━━━━━━┳━━━━━━━━━━━━━━━┓\n",
       "┃<span style=\"font-weight: bold\"> Layer (type)                    </span>┃<span style=\"font-weight: bold\"> Output Shape           </span>┃<span style=\"font-weight: bold\">       Param # </span>┃\n",
       "┡━━━━━━━━━━━━━━━━━━━━━━━━━━━━━━━━━╇━━━━━━━━━━━━━━━━━━━━━━━━╇━━━━━━━━━━━━━━━┩\n",
       "│ dense_10 (<span style=\"color: #0087ff; text-decoration-color: #0087ff\">Dense</span>)                │ (<span style=\"color: #00d7ff; text-decoration-color: #00d7ff\">None</span>, <span style=\"color: #00af00; text-decoration-color: #00af00\">64</span>)             │        <span style=\"color: #00af00; text-decoration-color: #00af00\">50,240</span> │\n",
       "├─────────────────────────────────┼────────────────────────┼───────────────┤\n",
       "│ dense_11 (<span style=\"color: #0087ff; text-decoration-color: #0087ff\">Dense</span>)                │ (<span style=\"color: #00d7ff; text-decoration-color: #00d7ff\">None</span>, <span style=\"color: #00af00; text-decoration-color: #00af00\">10</span>)             │           <span style=\"color: #00af00; text-decoration-color: #00af00\">650</span> │\n",
       "└─────────────────────────────────┴────────────────────────┴───────────────┘\n",
       "</pre>\n"
      ]
     },
     "metadata": {},
     "output_type": "display_data",
     "jetTransient": {
      "display_id": null
     }
    },
    {
     "data": {
      "text/plain": [
       "\u001B[1m Total params: \u001B[0m\u001B[38;5;34m50,890\u001B[0m (198.79 KB)\n"
      ],
      "text/html": [
       "<pre style=\"white-space:pre;overflow-x:auto;line-height:normal;font-family:Menlo,'DejaVu Sans Mono',consolas,'Courier New',monospace\"><span style=\"font-weight: bold\"> Total params: </span><span style=\"color: #00af00; text-decoration-color: #00af00\">50,890</span> (198.79 KB)\n",
       "</pre>\n"
      ]
     },
     "metadata": {},
     "output_type": "display_data",
     "jetTransient": {
      "display_id": null
     }
    },
    {
     "data": {
      "text/plain": [
       "\u001B[1m Trainable params: \u001B[0m\u001B[38;5;34m50,890\u001B[0m (198.79 KB)\n"
      ],
      "text/html": [
       "<pre style=\"white-space:pre;overflow-x:auto;line-height:normal;font-family:Menlo,'DejaVu Sans Mono',consolas,'Courier New',monospace\"><span style=\"font-weight: bold\"> Trainable params: </span><span style=\"color: #00af00; text-decoration-color: #00af00\">50,890</span> (198.79 KB)\n",
       "</pre>\n"
      ]
     },
     "metadata": {},
     "output_type": "display_data",
     "jetTransient": {
      "display_id": null
     }
    },
    {
     "data": {
      "text/plain": [
       "\u001B[1m Non-trainable params: \u001B[0m\u001B[38;5;34m0\u001B[0m (0.00 B)\n"
      ],
      "text/html": [
       "<pre style=\"white-space:pre;overflow-x:auto;line-height:normal;font-family:Menlo,'DejaVu Sans Mono',consolas,'Courier New',monospace\"><span style=\"font-weight: bold\"> Non-trainable params: </span><span style=\"color: #00af00; text-decoration-color: #00af00\">0</span> (0.00 B)\n",
       "</pre>\n"
      ]
     },
     "metadata": {},
     "output_type": "display_data",
     "jetTransient": {
      "display_id": null
     }
    }
   ],
   "execution_count": 54
  },
  {
   "cell_type": "markdown",
   "id": "12a7b3a7",
   "metadata": {},
   "source": [
    "## 1.6 Training (mit Validation vorbereitet)\n",
    "\n",
    "- Training gemäß Beispiel (z. B. **epochs=5**, **batch_size=128**)\n",
    "- Zusätzlich direkt **Validation** übergeben (für **MINST‑2** Plots)\n"
   ]
  },
  {
   "cell_type": "code",
   "id": "fe81588d",
   "metadata": {
    "ExecuteTime": {
     "end_time": "2025-09-29T09:07:41.820911Z",
     "start_time": "2025-09-29T09:07:35.900191Z"
    }
   },
   "source": [
    "EPOCHS = 20\n",
    "BATCH_SIZE = 128\n",
    "\n",
    "history = model.fit(\n",
    "    x_train_norm, y_train_cat,\n",
    "    epochs=EPOCHS,\n",
    "    batch_size=BATCH_SIZE,\n",
    "    validation_data=(x_test_norm, y_test_cat),\n",
    "    verbose=1\n",
    ")\n"
   ],
   "outputs": [
    {
     "name": "stdout",
     "output_type": "stream",
     "text": [
      "Epoch 1/20\n",
      "\u001B[1m469/469\u001B[0m \u001B[32m━━━━━━━━━━━━━━━━━━━━\u001B[0m\u001B[37m\u001B[0m \u001B[1m1s\u001B[0m 800us/step - accuracy: 0.8964 - loss: 0.3875 - val_accuracy: 0.9316 - val_loss: 0.2406\n",
      "Epoch 2/20\n",
      "\u001B[1m469/469\u001B[0m \u001B[32m━━━━━━━━━━━━━━━━━━━━\u001B[0m\u001B[37m\u001B[0m \u001B[1m0s\u001B[0m 585us/step - accuracy: 0.9410 - loss: 0.2077 - val_accuracy: 0.9463 - val_loss: 0.1803\n",
      "Epoch 3/20\n",
      "\u001B[1m469/469\u001B[0m \u001B[32m━━━━━━━━━━━━━━━━━━━━\u001B[0m\u001B[37m\u001B[0m \u001B[1m0s\u001B[0m 590us/step - accuracy: 0.9538 - loss: 0.1599 - val_accuracy: 0.9562 - val_loss: 0.1483\n",
      "Epoch 4/20\n",
      "\u001B[1m469/469\u001B[0m \u001B[32m━━━━━━━━━━━━━━━━━━━━\u001B[0m\u001B[37m\u001B[0m \u001B[1m0s\u001B[0m 582us/step - accuracy: 0.9620 - loss: 0.1306 - val_accuracy: 0.9603 - val_loss: 0.1362\n",
      "Epoch 5/20\n",
      "\u001B[1m469/469\u001B[0m \u001B[32m━━━━━━━━━━━━━━━━━━━━\u001B[0m\u001B[37m\u001B[0m \u001B[1m0s\u001B[0m 590us/step - accuracy: 0.9680 - loss: 0.1109 - val_accuracy: 0.9654 - val_loss: 0.1179\n",
      "Epoch 6/20\n",
      "\u001B[1m469/469\u001B[0m \u001B[32m━━━━━━━━━━━━━━━━━━━━\u001B[0m\u001B[37m\u001B[0m \u001B[1m0s\u001B[0m 578us/step - accuracy: 0.9715 - loss: 0.0968 - val_accuracy: 0.9677 - val_loss: 0.1089\n",
      "Epoch 7/20\n",
      "\u001B[1m469/469\u001B[0m \u001B[32m━━━━━━━━━━━━━━━━━━━━\u001B[0m\u001B[37m\u001B[0m \u001B[1m0s\u001B[0m 575us/step - accuracy: 0.9755 - loss: 0.0850 - val_accuracy: 0.9689 - val_loss: 0.1062\n",
      "Epoch 8/20\n",
      "\u001B[1m469/469\u001B[0m \u001B[32m━━━━━━━━━━━━━━━━━━━━\u001B[0m\u001B[37m\u001B[0m \u001B[1m0s\u001B[0m 573us/step - accuracy: 0.9779 - loss: 0.0765 - val_accuracy: 0.9669 - val_loss: 0.1047\n",
      "Epoch 9/20\n",
      "\u001B[1m469/469\u001B[0m \u001B[32m━━━━━━━━━━━━━━━━━━━━\u001B[0m\u001B[37m\u001B[0m \u001B[1m0s\u001B[0m 572us/step - accuracy: 0.9800 - loss: 0.0688 - val_accuracy: 0.9723 - val_loss: 0.0951\n",
      "Epoch 10/20\n",
      "\u001B[1m469/469\u001B[0m \u001B[32m━━━━━━━━━━━━━━━━━━━━\u001B[0m\u001B[37m\u001B[0m \u001B[1m0s\u001B[0m 578us/step - accuracy: 0.9818 - loss: 0.0626 - val_accuracy: 0.9734 - val_loss: 0.0895\n",
      "Epoch 11/20\n",
      "\u001B[1m469/469\u001B[0m \u001B[32m━━━━━━━━━━━━━━━━━━━━\u001B[0m\u001B[37m\u001B[0m \u001B[1m0s\u001B[0m 577us/step - accuracy: 0.9833 - loss: 0.0569 - val_accuracy: 0.9703 - val_loss: 0.0964\n",
      "Epoch 12/20\n",
      "\u001B[1m469/469\u001B[0m \u001B[32m━━━━━━━━━━━━━━━━━━━━\u001B[0m\u001B[37m\u001B[0m \u001B[1m0s\u001B[0m 579us/step - accuracy: 0.9850 - loss: 0.0520 - val_accuracy: 0.9736 - val_loss: 0.0883\n",
      "Epoch 13/20\n",
      "\u001B[1m469/469\u001B[0m \u001B[32m━━━━━━━━━━━━━━━━━━━━\u001B[0m\u001B[37m\u001B[0m \u001B[1m0s\u001B[0m 575us/step - accuracy: 0.9859 - loss: 0.0487 - val_accuracy: 0.9752 - val_loss: 0.0853\n",
      "Epoch 14/20\n",
      "\u001B[1m469/469\u001B[0m \u001B[32m━━━━━━━━━━━━━━━━━━━━\u001B[0m\u001B[37m\u001B[0m \u001B[1m0s\u001B[0m 578us/step - accuracy: 0.9872 - loss: 0.0440 - val_accuracy: 0.9750 - val_loss: 0.0862\n",
      "Epoch 15/20\n",
      "\u001B[1m469/469\u001B[0m \u001B[32m━━━━━━━━━━━━━━━━━━━━\u001B[0m\u001B[37m\u001B[0m \u001B[1m0s\u001B[0m 578us/step - accuracy: 0.9882 - loss: 0.0410 - val_accuracy: 0.9784 - val_loss: 0.0823\n",
      "Epoch 16/20\n",
      "\u001B[1m469/469\u001B[0m \u001B[32m━━━━━━━━━━━━━━━━━━━━\u001B[0m\u001B[37m\u001B[0m \u001B[1m0s\u001B[0m 574us/step - accuracy: 0.9891 - loss: 0.0375 - val_accuracy: 0.9768 - val_loss: 0.0841\n",
      "Epoch 17/20\n",
      "\u001B[1m469/469\u001B[0m \u001B[32m━━━━━━━━━━━━━━━━━━━━\u001B[0m\u001B[37m\u001B[0m \u001B[1m0s\u001B[0m 580us/step - accuracy: 0.9902 - loss: 0.0348 - val_accuracy: 0.9766 - val_loss: 0.0845\n",
      "Epoch 18/20\n",
      "\u001B[1m469/469\u001B[0m \u001B[32m━━━━━━━━━━━━━━━━━━━━\u001B[0m\u001B[37m\u001B[0m \u001B[1m0s\u001B[0m 593us/step - accuracy: 0.9910 - loss: 0.0323 - val_accuracy: 0.9763 - val_loss: 0.0853\n",
      "Epoch 19/20\n",
      "\u001B[1m469/469\u001B[0m \u001B[32m━━━━━━━━━━━━━━━━━━━━\u001B[0m\u001B[37m\u001B[0m \u001B[1m0s\u001B[0m 603us/step - accuracy: 0.9918 - loss: 0.0304 - val_accuracy: 0.9762 - val_loss: 0.0812\n",
      "Epoch 20/20\n",
      "\u001B[1m469/469\u001B[0m \u001B[32m━━━━━━━━━━━━━━━━━━━━\u001B[0m\u001B[37m\u001B[0m \u001B[1m0s\u001B[0m 581us/step - accuracy: 0.9923 - loss: 0.0281 - val_accuracy: 0.9776 - val_loss: 0.0821\n"
     ]
    }
   ],
   "execution_count": 55
  },
  {
   "cell_type": "markdown",
   "id": "9e093137",
   "metadata": {},
   "source": [
    "## 1.7 Evaluation auf Testdaten\n"
   ]
  },
  {
   "cell_type": "code",
   "id": "b5a36a09",
   "metadata": {
    "ExecuteTime": {
     "end_time": "2025-09-29T09:07:41.947247Z",
     "start_time": "2025-09-29T09:07:41.838272Z"
    }
   },
   "source": [
    "test_loss, test_acc = model.evaluate(x_test_norm, y_test_cat, verbose=0)\n",
    "print(f\"Test Loss: {test_loss:.4f} | Test Accuracy: {test_acc:.4f}\")\n"
   ],
   "outputs": [
    {
     "name": "stdout",
     "output_type": "stream",
     "text": [
      "Test Loss: 0.0821 | Test Accuracy: 0.9776\n"
     ]
    }
   ],
   "execution_count": 56
  },
  {
   "cell_type": "markdown",
   "id": "8d6e6cb9",
   "metadata": {},
   "source": [
    "## Bonus: Beispielvorhersage\n"
   ]
  },
  {
   "cell_type": "code",
   "id": "56bd1fde",
   "metadata": {
    "ExecuteTime": {
     "end_time": "2025-09-29T09:07:41.983881Z",
     "start_time": "2025-09-29T09:07:41.951212Z"
    }
   },
   "source": [
    "probs = model.predict(x_test_norm[:5])\n",
    "preds = np.argmax(probs, axis=1)\n",
    "list(zip(preds, y_test[:5]))\n"
   ],
   "outputs": [
    {
     "name": "stdout",
     "output_type": "stream",
     "text": [
      "\u001B[1m1/1\u001B[0m \u001B[32m━━━━━━━━━━━━━━━━━━━━\u001B[0m\u001B[37m\u001B[0m \u001B[1m0s\u001B[0m 15ms/step\n"
     ]
    },
    {
     "data": {
      "text/plain": [
       "[(np.int64(7), np.uint8(7)),\n",
       " (np.int64(2), np.uint8(2)),\n",
       " (np.int64(1), np.uint8(1)),\n",
       " (np.int64(0), np.uint8(0)),\n",
       " (np.int64(4), np.uint8(4))]"
      ]
     },
     "execution_count": 57,
     "metadata": {},
     "output_type": "execute_result"
    }
   ],
   "execution_count": 57
  },
  {
   "cell_type": "markdown",
   "id": "8eaff12d",
   "metadata": {},
   "source": [
    "# MINST‑2 Kernauswertung\n",
    "\n",
    "## 18.2.1 Accuracy‑Plot (Training)\n"
   ]
  },
  {
   "cell_type": "code",
   "id": "0ec688e1",
   "metadata": {
    "ExecuteTime": {
     "end_time": "2025-09-29T09:07:42.021527Z",
     "start_time": "2025-09-29T09:07:41.987482Z"
    }
   },
   "source": [
    "acc = history.history.get(\"accuracy\", [])\n",
    "plt.figure()\n",
    "plt.plot(range(1, len(acc)+1), acc, label=\"Training\")\n",
    "plt.title(\"Korrektklassifizierungsrate (Accuracy) – Training\")\n",
    "plt.xlabel(\"Epochen\")\n",
    "plt.ylabel(\"Accuracy\")\n",
    "plt.legend()\n",
    "plt.show()\n"
   ],
   "outputs": [
    {
     "data": {
      "text/plain": [
       "<Figure size 640x480 with 1 Axes>"
      ],
      "image/png": "[encoded data removed]"
     },
     "metadata": {},
     "output_type": "display_data",
     "jetTransient": {
      "display_id": null
     }
    }
   ],
   "execution_count": 58
  },
  {
   "cell_type": "markdown",
   "id": "ef0b0c6d",
   "metadata": {},
   "source": [
    "## 18.2.2 Accuracy‑Plot (Training vs. Validation)\n"
   ]
  },
  {
   "cell_type": "code",
   "id": "0cdd8452",
   "metadata": {
    "ExecuteTime": {
     "end_time": "2025-09-29T09:07:42.059088Z",
     "start_time": "2025-09-29T09:07:42.024916Z"
    }
   },
   "source": [
    "val_acc = history.history.get(\"val_accuracy\", [])\n",
    "plt.figure()\n",
    "plt.plot(range(1, len(acc)+1), acc, label=\"Training\")\n",
    "plt.plot(range(1, len(val_acc)+1), val_acc, linestyle=\"--\", label=\"Validation\")\n",
    "plt.title(\"Accuracy – Training vs. Validation\")\n",
    "plt.xlabel(\"Epochen\")\n",
    "plt.ylabel(\"Accuracy\")\n",
    "plt.legend()\n",
    "plt.show()\n"
   ],
   "outputs": [
    {
     "data": {
      "text/plain": [
       "<Figure size 640x480 with 1 Axes>"
      ],
      "image/png": "[encoded data removed]"
     },
     "metadata": {},
     "output_type": "display_data",
     "jetTransient": {
      "display_id": null
     }
    }
   ],
   "execution_count": 59
  },
  {
   "cell_type": "markdown",
   "id": "61514a99",
   "metadata": {},
   "source": [
    "## 18.2.3 Verlustfunktion (Loss) – Training vs. Validation\n",
    "\n",
    "> Experimentiere lokal mit `EPOCHS` und `BATCH_SIZE`, sodass die Kurven möglichst gut **konvergieren**.\n"
   ]
  },
  {
   "cell_type": "code",
   "id": "3efa26f6",
   "metadata": {
    "ExecuteTime": {
     "end_time": "2025-09-29T09:07:42.101110Z",
     "start_time": "2025-09-29T09:07:42.062666Z"
    }
   },
   "source": [
    "loss = history.history.get(\"loss\", [])\n",
    "val_loss = history.history.get(\"val_loss\", [])\n",
    "plt.figure()\n",
    "plt.plot(range(1, len(loss)+1), loss, label=\"Training Loss\")\n",
    "plt.plot(range(1, len(val_loss)+1), val_loss, linestyle=\"--\", label=\"Validation Loss\")\n",
    "plt.title(\"Loss – Training vs. Validation\")\n",
    "plt.xlabel(\"Epochen\")\n",
    "plt.ylabel(\"Loss\")\n",
    "plt.legend()\n",
    "plt.show()\n"
   ],
   "outputs": [
    {
     "data": {
      "text/plain": [
       "<Figure size 640x480 with 1 Axes>"
      ],
      "image/png": "[encoded data removed]"
     },
     "metadata": {},
     "output_type": "display_data",
     "jetTransient": {
      "display_id": null
     }
    }
   ],
   "execution_count": 60
  },
  {
   "cell_type": "markdown",
   "id": "dbad09ca",
   "metadata": {},
   "source": [
    "## 18.2.4 Modell speichern & laden\n"
   ]
  },
  {
   "cell_type": "code",
   "id": "34bae4e5",
   "metadata": {
    "ExecuteTime": {
     "end_time": "2025-09-29T09:07:42.318974Z",
     "start_time": "2025-09-29T09:07:42.104221Z"
    }
   },
   "source": [
    "# Speichern\n",
    "MODEL_PATH = \"mnist_dense_model.keras\"  # Keras v3 Format\n",
    "model.save(MODEL_PATH)\n",
    "print(\"Gespeichert unter:\", MODEL_PATH)\n",
    "\n",
    "# Laden (Beispiel)\n",
    "loaded = load_model(MODEL_PATH)\n",
    "loss2, acc2 = loaded.evaluate(x_test_norm, y_test_cat, verbose=0)\n",
    "print(f\"Geladenes Modell – Test Accuracy: {acc2:.4f}\")\n"
   ],
   "outputs": [
    {
     "name": "stdout",
     "output_type": "stream",
     "text": [
      "Gespeichert unter: mnist_dense_model.keras\n",
      "Geladenes Modell – Test Accuracy: 0.9776\n"
     ]
    }
   ],
   "execution_count": 61
  }
 ],
 "metadata": {
  "kernelspec": {
   "name": "python3",
   "language": "python",
   "display_name": "Python 3 (ipykernel)"
  }
 },
 "nbformat": 4,
 "nbformat_minor": 5
}
